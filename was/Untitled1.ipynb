{
 "cells": [
  {
   "cell_type": "code",
   "execution_count": 2,
   "metadata": {},
   "outputs": [],
   "source": [
    "from django.db import models\n",
    "from stores.models import Store\n",
    "from django.conf import settings\n"
   ]
  },
  {
   "cell_type": "code",
   "execution_count": 3,
   "metadata": {},
   "outputs": [],
   "source": [
    "from menus.models import Review"
   ]
  },
  {
   "cell_type": "code",
   "execution_count": 4,
   "metadata": {},
   "outputs": [],
   "source": [
    "from customprofile.models import UserProfile"
   ]
  },
  {
   "cell_type": "code",
   "execution_count": 4,
   "metadata": {},
   "outputs": [
    {
     "name": "stdout",
     "output_type": "stream",
     "text": [
      "<QuerySet [<Review: 짜장면 - taehyoungkwon - 맛있게 잘 먹었습니다.!!>, <Review: 짜장면 - taehyoungkwon - 또 시켜먹었습니다. 맛있네요>, <Review: 탕수육 - taehyoungkwon - 여기 탕수육 별로네요 기름 냄새가 너무나요.. ㅡㅡ>, <Review: 아메리카노 - taehyoungkwon - 스타벅스 커피 맞나요?... 아메리카노 이렇게 맛없는거 처음인듯..>]>\n"
     ]
    }
   ],
   "source": [
    "reviews = UserProfile.objects.all()[0].user.user_review.all()\n",
    "\n",
    "print(reviews)"
   ]
  },
  {
   "cell_type": "code",
   "execution_count": 9,
   "metadata": {},
   "outputs": [],
   "source": [
    "k = Review.objects.all()"
   ]
  },
  {
   "cell_type": "code",
   "execution_count": 10,
   "metadata": {},
   "outputs": [
    {
     "name": "stdout",
     "output_type": "stream",
     "text": [
      "짜장면 - taehyoungkwon - 맛있게 잘 먹었습니다.!!\n",
      "짜장면 - taehyoungkwon - 또 시켜먹었습니다. 맛있네요\n",
      "탕수육 - taehyoungkwon - 여기 탕수육 별로네요 기름 냄새가 너무나요.. ㅡㅡ\n",
      "아메리카노 - taehyoungkwon - 스타벅스 커피 맞나요?... 아메리카노 이렇게 맛없는거 처음인듯..\n",
      "짜장면 - leeyerin - 짜장면 잘먹었습니다!\n",
      "아메리카노 - chansoopark - 아메리카노 맛있네요!\n"
     ]
    }
   ],
   "source": [
    "for a in k:\n",
    "    print(a)"
   ]
  },
  {
   "cell_type": "code",
   "execution_count": 11,
   "metadata": {},
   "outputs": [
    {
     "name": "stdout",
     "output_type": "stream",
     "text": [
      "<QuerySet [<Review: 짜장면 - taehyoungkwon - 맛있게 잘 먹었습니다.!!>, <Review: 짜장면 - taehyoungkwon - 또 시켜먹었습니다. 맛있네요>, <Review: 탕수육 - taehyoungkwon - 여기 탕수육 별로네요 기름 냄새가 너무나요.. ㅡㅡ>, <Review: 아메리카노 - taehyoungkwon - 스타벅스 커피 맞나요?... 아메리카노 이렇게 맛없는거 처음인듯..>, <Review: 짜장면 - leeyerin - 짜장면 잘먹었습니다!>, <Review: 아메리카노 - chansoopark - 아메리카노 맛있네요!>]>\n"
     ]
    }
   ],
   "source": [
    "print(k)"
   ]
  },
  {
   "cell_type": "code",
   "execution_count": 12,
   "metadata": {},
   "outputs": [
    {
     "data": {
      "text/plain": [
       "<Review: 아메리카노 - chansoopark - 아메리카노 맛있네요!>"
      ]
     },
     "execution_count": 12,
     "metadata": {},
     "output_type": "execute_result"
    }
   ],
   "source": [
    "a"
   ]
  },
  {
   "cell_type": "code",
   "execution_count": 5,
   "metadata": {},
   "outputs": [],
   "source": [
    "following_list = UserProfile.objects.all()[0].following.all()"
   ]
  },
  {
   "cell_type": "code",
   "execution_count": 17,
   "metadata": {},
   "outputs": [
    {
     "data": {
      "text/plain": [
       "[<Review: 짜장면 - leeyerin - 짜장면 잘먹었습니다!>,\n",
       " <ReviewComment: Chan-soo Park::이 리뷰 너무 성의없는데요??>,\n",
       " <NoticeComment: Chan-soo Park::notice - 축하합니다.!>,\n",
       " <NoticeComment: leeyerin::notice - 오픈 축하해요!>,\n",
       " <MenuComment: Chan-soo Park::이거 좀 맛있어 보이네요 나중에 먹으러갈꼐욤!>,\n",
       " <MenuComment: Chan-soo Park::와..!>,\n",
       " <MenuComment: Chan-soo Park::굿굿!>]"
      ]
     },
     "execution_count": 17,
     "metadata": {},
     "output_type": "execute_result"
    }
   ],
   "source": [
    "user_follwoing_feed = []\n",
    "\n",
    "for follow in following_list:\n",
    "    for review in follow.user_review.all():\n",
    "        user_follwoing_feed.append(review)\n",
    "    \n",
    "    for notice_comment in follow.notice_comment_user.all():\n",
    "        user_follwoing_feed.append(notice_comment)\n",
    "\n",
    "    for menu_comment in follow.menu_comment_user.all():\n",
    "        user_follwoing_feed.append(menu_comment)\n",
    "    \n",
    "    for review_comment in follow.review_comment_user.all():\n",
    "        user_follwoing_feed.append(review_comment)\n",
    "        \n",
    "sorted(user_follwoing_feed, key=lambda x:x.updated_at, reverse=True)"
   ]
  },
  {
   "cell_type": "code",
   "execution_count": 4,
   "metadata": {},
   "outputs": [
    {
     "data": {
      "text/plain": [
       "<QuerySet [<Review: 짜장면 - taehyoungkwon - 맛있게 잘 먹었습니다.!!>, <Review: 짜장면 - taehyoungkwon - 또 시켜먹었습니다. 맛있네요>, <Review: 탕수육 - taehyoungkwon - 여기 탕수육 별로네요 기름 냄새가 너무나요.. ㅡㅡ>, <Review: 아메리카노 - taehyoungkwon - 스타벅스 커피 맞나요?... 아메리카노 이렇게 맛없는거 처음인듯..>]>"
      ]
     },
     "execution_count": 4,
     "metadata": {},
     "output_type": "execute_result"
    }
   ],
   "source": [
    "UserProfile.objects.all()[0].user.user_review.all()"
   ]
  },
  {
   "cell_type": "code",
   "execution_count": 15,
   "metadata": {},
   "outputs": [
    {
     "data": {
      "text/plain": [
       "[<Review: 짜장면 - leeyerin - 짜장면 잘먹었습니다!>,\n",
       " <ReviewComment: Chan-soo Park::이 리뷰 너무 성의없는데요??>,\n",
       " <NoticeComment: Chan-soo Park::notice - 축하합니다.!>,\n",
       " <NoticeComment: leeyerin::notice - 오픈 축하해요!>,\n",
       " <MenuComment: Chan-soo Park::이거 좀 맛있어 보이네요 나중에 먹으러갈꼐욤!>,\n",
       " <MenuComment: Chan-soo Park::와..!>,\n",
       " <MenuComment: Chan-soo Park::굿굿!>]"
      ]
     },
     "execution_count": 15,
     "metadata": {},
     "output_type": "execute_result"
    }
   ],
   "source": [
    "\n",
    "\n"
   ]
  },
  {
   "cell_type": "code",
   "execution_count": 14,
   "metadata": {},
   "outputs": [
    {
     "name": "stdout",
     "output_type": "stream",
     "text": [
      "[<NoticeComment: Chan-soo Park::notice - 축하합니다.!>, <MenuComment: Chan-soo Park::이거 좀 맛있어 보이네요 나중에 먹으러갈꼐욤!>, <MenuComment: Chan-soo Park::와..!>, <MenuComment: Chan-soo Park::굿굿!>, <ReviewComment: Chan-soo Park::이 리뷰 너무 성의없는데요??>, <Review: 짜장면 - leeyerin - 짜장면 잘먹었습니다!>, <NoticeComment: leeyerin::notice - 오픈 축하해요!>]\n"
     ]
    }
   ],
   "source": [
    "print(user_follwoing_feed)"
   ]
  },
  {
   "cell_type": "code",
   "execution_count": 3,
   "metadata": {},
   "outputs": [],
   "source": [
    "from customprofile.models import UserProfile"
   ]
  },
  {
   "cell_type": "code",
   "execution_count": 4,
   "metadata": {},
   "outputs": [],
   "source": [
    "some_user = UserProfile.objects.all()[0]"
   ]
  },
  {
   "cell_type": "code",
   "execution_count": 5,
   "metadata": {},
   "outputs": [
    {
     "data": {
      "text/plain": [
       "<UserProfile: kwon5604@naver.com>"
      ]
     },
     "execution_count": 5,
     "metadata": {},
     "output_type": "execute_result"
    }
   ],
   "source": [
    "some_user"
   ]
  },
  {
   "cell_type": "code",
   "execution_count": 13,
   "metadata": {},
   "outputs": [
    {
     "name": "stdout",
     "output_type": "stream",
     "text": [
      "<QuerySet [<Store: minho == 뺵다방>, <Store: yejin == 파리바게뜨>]>\n"
     ]
    }
   ],
   "source": [
    "store_follwoing = some_user.store_following.all()\n",
    "print(store_follwoing)"
   ]
  },
  {
   "cell_type": "code",
   "execution_count": 10,
   "metadata": {},
   "outputs": [],
   "source": [
    "from basic_auth.models import User"
   ]
  },
  {
   "cell_type": "code",
   "execution_count": 11,
   "metadata": {},
   "outputs": [
    {
     "data": {
      "text/plain": [
       "<QuerySet [<User: kwon5604@naver.com>, <User: yerin@naver.com>, <User: chansoo@naver.com>, <User: yegi@naver.com>, <User: yejin@naver.com>, <User: heejung@naver.com>, <User: seongjoo@naver.com>, <User: sanghyun@naver.com>, <User: minho@naver.com>, <User: jskim@naver.com>]>"
      ]
     },
     "execution_count": 11,
     "metadata": {},
     "output_type": "execute_result"
    }
   ],
   "source": [
    "User.objects.all()"
   ]
  },
  {
   "cell_type": "code",
   "execution_count": 12,
   "metadata": {},
   "outputs": [
    {
     "data": {
      "text/plain": [
       "<QuerySet [<Notice: minho == 뺵다방 - 빽다방 오픈했습니다.>, <Notice: yejin == 파리바게뜨 - 파리바게뜨 공지사항입니다.>]>"
      ]
     },
     "execution_count": 12,
     "metadata": {},
     "output_type": "execute_result"
    }
   ],
   "source": [
    "Notice.objects.filter(store__in=store_follwoing)"
   ]
  },
  {
   "cell_type": "code",
   "execution_count": 14,
   "metadata": {},
   "outputs": [
    {
     "data": {
      "text/plain": [
       "<QuerySet [<Menu: 크림빵>, <Menu: 단팥빵>, <Menu: 아메리카노>]>"
      ]
     },
     "execution_count": 14,
     "metadata": {},
     "output_type": "execute_result"
    }
   ],
   "source": [
    "Menu.objects.filter(store__in=store_follwoing)"
   ]
  },
  {
   "cell_type": "code",
   "execution_count": null,
   "metadata": {},
   "outputs": [],
   "source": []
  }
 ],
 "metadata": {
  "kernelspec": {
   "display_name": "Django Shell-Plus",
   "language": "python",
   "name": "django_extensions"
  },
  "language_info": {
   "codemirror_mode": {
    "name": "ipython",
    "version": 3
   },
   "file_extension": ".py",
   "mimetype": "text/x-python",
   "name": "python",
   "nbconvert_exporter": "python",
   "pygments_lexer": "ipython3",
   "version": "3.5.2"
  }
 },
 "nbformat": 4,
 "nbformat_minor": 2
}
